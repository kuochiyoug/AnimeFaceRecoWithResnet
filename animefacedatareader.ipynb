{
 "cells": [
  {
   "cell_type": "code",
   "execution_count": null,
   "metadata": {},
   "outputs": [],
   "source": [
    "import numpy as np\n",
    "import os,glob\n",
    "\n",
    "\n",
    "\n",
    "def data_manage_animefacedata(data_path=\"/home/koma/dataset/animeface-character-dataset/thumb/\",in_size=224):\n",
    "    #Data path setup\n",
    "   \n",
    "    #data_path = \"/home/koma/dataset/animeface-character-dataset/thumb/\"\n",
    "    folders = sorted(os.listdir(data_path))\n",
    "    cats = []#Categorys list\n",
    "    all_data = []\n",
    "    for folder in folders:\n",
    "        if os.path.isfile(data_path + folder + \"/\" + \"ignore\"):\n",
    "            #print(\"Folder \"+ folder + \"is ignored!\")\n",
    "            continue\n",
    "        else:\n",
    "            cats.append(folder)\n",
    "            label = folder\n",
    "            img_filelist = glob.glob(data_path + folder + \"/\"+\"*.png\")\n",
    "            for imgfile in img_filelist:\n",
    "                all_data.append([imgfile,label])\n",
    "    print(\"labels=\"+str(len(cats)))\n",
    "    \n",
    "    all_data = np.random.permutation(all_data)\n",
    "            \n",
    "    imageData = []\n",
    "    labelData = []\n",
    "    for PathAndLabel in all_data:\n",
    "        img = Image.open(PathAndLabel[0])\n",
    "        img = img.resize((in_size,in_size))\n",
    "        label_id = cats.index(PathAndLabel[1])\n",
    "        #print PathAndLabel[1]\n",
    "        img = np.asarray(np.float32(img))\n",
    "        if img.shape[2] != 3:\n",
    "            continue\n",
    "        img = np.reshape(img,(3,in_size,in_size))\n",
    "        imageData.append(img)\n",
    "        labelData.append(np.int32(label_id))\n",
    "    \n",
    "    imageData = np.vstack(imageData)\n",
    "    labelData = np.vstack(labelData)\n",
    "    \n",
    "    return imageData,labelData"
   ]
  }
 ],
 "metadata": {
  "kernelspec": {
   "display_name": "Python 2",
   "language": "python",
   "name": "python2"
  },
  "language_info": {
   "codemirror_mode": {
    "name": "ipython",
    "version": 2
   },
   "file_extension": ".py",
   "mimetype": "text/x-python",
   "name": "python",
   "nbconvert_exporter": "python",
   "pygments_lexer": "ipython2",
   "version": "2.7.6"
  }
 },
 "nbformat": 4,
 "nbformat_minor": 2
}
